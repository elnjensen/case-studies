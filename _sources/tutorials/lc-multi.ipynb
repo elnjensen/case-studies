{
 "cells": [
  {
   "cell_type": "markdown",
   "id": "2666a73a-1300-4d7e-a5bf-fd3b54e221b7",
   "metadata": {},
   "source": [
    "(lc-multi)=\n",
    "\n",
    "# Light curves from multiple instruments"
   ]
  },
  {
   "cell_type": "code",
   "execution_count": 1,
   "id": "be2f2c90-ef8c-4bc7-a0bb-47c6549f0bdf",
   "metadata": {
    "execution": {
     "iopub.execute_input": "2022-06-06T01:11:57.429872Z",
     "iopub.status.busy": "2022-06-06T01:11:57.429517Z",
     "iopub.status.idle": "2022-06-06T01:12:01.544805Z",
     "shell.execute_reply": "2022-06-06T01:12:01.543920Z"
    }
   },
   "outputs": [
    {
     "name": "stdout",
     "output_type": "stream",
     "text": [
      "exoplanet.__version__ = '0.5.3.dev9+gbd01ddd'\n"
     ]
    }
   ],
   "source": [
    "import exoplanet\n",
    "\n",
    "exoplanet.utils.docs_setup()\n",
    "print(f\"exoplanet.__version__ = '{exoplanet.__version__}'\")"
   ]
  },
  {
   "cell_type": "markdown",
   "id": "a4a5f70c-f401-4648-858b-434704ecff6f",
   "metadata": {},
   "source": [
    "In the {ref}`rv-multi` case study, we discussed fitting the radial velocity curve for a planetary system observed using multiple instruments.\n",
    "You might also want to fit data from multiple instruments when fitting the light curve of a transiting planet and that's what we work through in this example.\n",
    "This is a somewhat more complicated example than the radial velocity case because some of the physical properties of the system can vary as as function of the instrument.\n",
    "Specifically, the transit depth (or the effective radius of the planet) will be a function of the filter or effective wavelength of the observations.\n",
    "This is the idea behind transit spectroscopy and the method used in this case study could (and should!) be extended to that use case.\n",
    "In this case, we'll combine the light curves from the Kepler and TESS missions for the planet host HAT-P-11.\n",
    "\n",
    "## A brief aside on dataset \"weighting\"\n",
    "\n",
    "Before getting into the details of this case study, let's spend a minute talking about a topic that comes up a lot when discussing combining observations from different instruments or techniques.\n",
    "To many people, it seems intuitive that one should (and perhaps must) \"weight\" how much each dataset contributes to the likelihood based on how much they \"trust\" those data.\n",
    "For example, you might be worried that a dataset with more datapoints will have a larger effect on the the results than you would like.\n",
    "While this might seem intuitive, it's wrong: **the only way to combine datasets is to multiply their likelihood functions**.\n",
    "Instead, it is useful to understand what you actually mean when you say that you don't \"trust\" a dataset as much as another.\n",
    "**What you're really saying is that you don't believe the observation model that you wrote down**.\n",
    "For example, you might think that the quoted error bars are underestimated or there might be correlated noise that an uncorrelated normal observation model can't capture.\n",
    "The benefit of thinking about it this way is that it suggests a solution to the problem: incorporate a more flexible observation model that can capture these issues.\n",
    "In this case study, the 4 years of (long-cadence) Kepler observations only include about two times as many data points as one month of TESS observations.\n",
    "But, as you can see in the figure below, these two datasets have different noise properties (both in terms of photon noise and correlated noise) so we will fit using a different flexible Gaussian process noise model for each data set that will take these different properties into account."
   ]
  },
  {
   "cell_type": "code",
   "execution_count": 2,
   "id": "efef00be",
   "metadata": {
    "execution": {
     "iopub.execute_input": "2022-06-06T01:12:01.549624Z",
     "iopub.status.busy": "2022-06-06T01:12:01.549062Z",
     "iopub.status.idle": "2022-06-06T01:12:17.949142Z",
     "shell.execute_reply": "2022-06-06T01:12:17.948196Z"
    }
   },
   "outputs": [
    {
     "data": {
      "image/png": "[encoded data removed]",
      "text/plain": [
       "<Figure size 720x360 with 2 Axes>"
      ]
     },
     "metadata": {
      "needs_background": "light"
     },
     "output_type": "display_data"
    }
   ],
   "source": [
    "import numpy as np\n",
    "import lightkurve as lk\n",
    "from astropy.io import fits\n",
    "from collections import OrderedDict\n",
    "import matplotlib.pyplot as plt\n",
    "\n",
    "# Period and reference transit time from the literature for initialization\n",
    "lit_period = 4.887803076\n",
    "lit_t0 = 124.8130808\n",
    "\n",
    "\n",
    "def transit_mask(t):\n",
    "    return (\n",
    "        np.abs((t - lit_t0 + 0.5 * lit_period) % lit_period - 0.5 * lit_period)\n",
    "        < 0.2\n",
    "    )\n",
    "\n",
    "\n",
    "kepler_lcfs = lk.search_lightcurve(\n",
    "    \"HAT-P-11\", mission=\"Kepler\", cadence=\"long\"\n",
    ").download_all(flux_column=\"pdcsap_flux\")\n",
    "kepler_lc = kepler_lcfs.stitch().remove_nans()\n",
    "\n",
    "# For the purposes of this example, let's only clip out data near the transits\n",
    "m = transit_mask(kepler_lc.time.value)\n",
    "kepler_t = np.ascontiguousarray(kepler_lc.time.value[m], dtype=np.float64)\n",
    "kepler_y = np.ascontiguousarray(\n",
    "    1e3 * (kepler_lc.flux[m] - 1), dtype=np.float64\n",
    ")\n",
    "kepler_yerr = np.ascontiguousarray(\n",
    "    1e3 * kepler_lc.flux_err[m], dtype=np.float64\n",
    ")\n",
    "\n",
    "with fits.open(kepler_lcfs[0].filename) as hdu:\n",
    "    hdr = hdu[1].header\n",
    "kepler_texp = hdr[\"FRAMETIM\"] * hdr[\"NUM_FRM\"]\n",
    "kepler_texp /= 60.0 * 60.0 * 24.0\n",
    "\n",
    "tess_lcfs = lk.search_lightcurve(\n",
    "    \"HAT-P-11\", mission=\"TESS\", author=\"SPOC\", sector=(14, 15)\n",
    ").download_all(flux_column=\"pdcsap_flux\")\n",
    "tess_lc = tess_lcfs.stitch().remove_nans()\n",
    "\n",
    "# For the purposes of this example, let's only clip out data near the transits\n",
    "t = tess_lc.time.value + 2457000 - 2454833\n",
    "m = transit_mask(t)\n",
    "tess_t = np.ascontiguousarray(t[m], dtype=np.float64)\n",
    "tess_y = np.ascontiguousarray(1e3 * (tess_lc.flux[m] - 1), dtype=np.float64)\n",
    "tess_yerr = np.ascontiguousarray(1e3 * tess_lc.flux_err[m], dtype=np.float64)\n",
    "\n",
    "with fits.open(tess_lcfs[0].filename) as hdu:\n",
    "    hdr = hdu[1].header\n",
    "tess_texp = hdr[\"FRAMETIM\"] * hdr[\"NUM_FRM\"]\n",
    "tess_texp /= 60.0 * 60.0 * 24.0\n",
    "\n",
    "datasets = OrderedDict(\n",
    "    [\n",
    "        (\"Kepler\", [kepler_t, kepler_y, kepler_yerr, kepler_texp]),\n",
    "        (\"TESS\", [tess_t, tess_y, tess_yerr, tess_texp]),\n",
    "    ]\n",
    ")\n",
    "\n",
    "fig, axes = plt.subplots(1, len(datasets), sharey=True, figsize=(10, 5))\n",
    "\n",
    "for i, (name, (t, y, _, _)) in enumerate(datasets.items()):\n",
    "    ax = axes[i]\n",
    "    ax.plot(t, y, \"k\", lw=0.75, label=name)\n",
    "    ax.set_xlabel(\"time [KBJD]\")\n",
    "    ax.set_title(name, fontsize=14)\n",
    "\n",
    "    x_mid = 0.5 * (t.min() + t.max())\n",
    "    ax.set_xlim(x_mid - 10, x_mid + 10)\n",
    "axes[0].set_ylim(-10, 10)\n",
    "fig.subplots_adjust(wspace=0.05)\n",
    "_ = axes[0].set_ylabel(\"relative flux [ppt]\")"
   ]
  },
  {
   "cell_type": "markdown",
   "id": "0f97992e",
   "metadata": {},
   "source": [
    "## The probabilistic model\n",
    "\n",
    "This model is mostly the same as the one used in [Quick fits for TESS light curves](./quick-tess.ipynb), but we're allowing for different noise variances (both the white noise component and the GP amplitude), effective planet radii, and limb-darkening coefficients for each dataset.\n",
    "For the purposes of demonstration, we're sharing the length scale of the GP between the two datasets, but this could just have well been a different parameter for each dataset without changing the results.\n",
    "The final change that we're using is to use the approximate transit depth `approx_depth` (the depth of the transit at minimum assuming the limb-darkening profile is constant under the disk of the planet) as a parameter instead of the radius ratio.\n",
    "This does not have a large effect on the performance or the results, but it can sometimes be a useful parameterization when dealing with high signal-to-noise transits because it reduces the covariance between the radius parameter and the limb darkening coefficients.\n",
    "As usual, we run a few iterations of sigma clipping and then find the maximum a posteriori parameters to check to make sure that everything is working:"
   ]
  },
  {
   "cell_type": "code",
   "execution_count": 3,
   "id": "1d6498d1",
   "metadata": {
    "execution": {
     "iopub.execute_input": "2022-06-06T01:12:17.953208Z",
     "iopub.status.busy": "2022-06-06T01:12:17.952920Z",
     "iopub.status.idle": "2022-06-06T01:21:24.841570Z",
     "shell.execute_reply": "2022-06-06T01:21:24.840029Z"
    }
   },
   "outputs": [
    {
     "name": "stderr",
     "output_type": "stream",
     "text": [
      "optimizing logp for variables: [Kepler_log_approx_depth, Kepler_u, Kepler_mean]\n"
     ]
    },
    {
     "data": {
      "text/html": [
       "\n",
       "<style>\n",
       "    /* Turns off some styling */\n",
       "    progress {\n",
       "        /* gets rid of default border in Firefox and Opera. */\n",
       "        border: none;\n",
       "        /* Needs to be in here for Safari polyfill so background images work as expected. */\n",
       "        background-size: auto;\n",
       "    }\n",
       "    .progress-bar-interrupted, .progress-bar-interrupted::-webkit-progress-bar {\n",
       "        background: #F44336;\n",
       "    }\n",
       "</style>\n"
      ],
      "text/plain": [
       "<IPython.core.display.HTML object>"
      ]
     },
     "metadata": {},
     "output_type": "display_data"
    },
    {
     "data": {
      "text/html": [
       "\n",
       "    <div>\n",
       "      <progress value='73' class='' max='73' style='width:300px; height:20px; vertical-align: middle;'></progress>\n",
       "      100.00% [73/73 00:00<00:00 logp = -7.692e+03]\n",
       "    </div>\n",
       "    "
      ],
      "text/plain": [
       "<IPython.core.display.HTML object>"
      ]
     },
     "metadata": {},
     "output_type": "display_data"
    },
    {
     "name": "stdout",
     "output_type": "stream",
     "text": [
      "\n"
     ]
    },
    {
     "name": "stderr",
     "output_type": "stream",
     "text": [
      "message: Desired error not necessarily achieved due to precision loss.\n",
      "logp: -36929.236803204934 -> -7691.628762474603\n"
     ]
    },
    {
     "name": "stderr",
     "output_type": "stream",
     "text": [
      "optimizing logp for variables: [TESS_log_approx_depth, TESS_u, TESS_mean]\n"
     ]
    },
    {
     "data": {
      "text/html": [
       "\n",
       "<style>\n",
       "    /* Turns off some styling */\n",
       "    progress {\n",
       "        /* gets rid of default border in Firefox and Opera. */\n",
       "        border: none;\n",
       "        /* Needs to be in here for Safari polyfill so background images work as expected. */\n",
       "        background-size: auto;\n",
       "    }\n",
       "    .progress-bar-interrupted, .progress-bar-interrupted::-webkit-progress-bar {\n",
       "        background: #F44336;\n",
       "    }\n",
       "</style>\n"
      ],
      "text/plain": [
       "<IPython.core.display.HTML object>"
      ]
     },
     "metadata": {},
     "output_type": "display_data"
    },
    {
     "data": {
      "text/html": [
       "\n",
       "    <div>\n",
       "      <progress value='22' class='' max='22' style='width:300px; height:20px; vertical-align: middle;'></progress>\n",
       "      100.00% [22/22 00:00<00:00 logp = -7.487e+03]\n",
       "    </div>\n",
       "    "
      ],
      "text/plain": [
       "<IPython.core.display.HTML object>"
      ]
     },
     "metadata": {},
     "output_type": "display_data"
    },
    {
     "name": "stdout",
     "output_type": "stream",
     "text": [
      "\n"
     ]
    },
    {
     "name": "stderr",
     "output_type": "stream",
     "text": [
      "message: Optimization terminated successfully.\n",
      "logp: -7691.628762474603 -> -7487.191191803724\n"
     ]
    },
    {
     "name": "stderr",
     "output_type": "stream",
     "text": [
      "optimizing logp for variables: [Kepler_sigma_gp, Kepler_sigma]\n"
     ]
    },
    {
     "data": {
      "text/html": [
       "\n",
       "<style>\n",
       "    /* Turns off some styling */\n",
       "    progress {\n",
       "        /* gets rid of default border in Firefox and Opera. */\n",
       "        border: none;\n",
       "        /* Needs to be in here for Safari polyfill so background images work as expected. */\n",
       "        background-size: auto;\n",
       "    }\n",
       "    .progress-bar-interrupted, .progress-bar-interrupted::-webkit-progress-bar {\n",
       "        background: #F44336;\n",
       "    }\n",
       "</style>\n"
      ],
      "text/plain": [
       "<IPython.core.display.HTML object>"
      ]
     },
     "metadata": {},
     "output_type": "display_data"
    },
    {
     "data": {
      "text/html": [
       "\n",
       "    <div>\n",
       "      <progress value='16' class='' max='16' style='width:300px; height:20px; vertical-align: middle;'></progress>\n",
       "      100.00% [16/16 00:00<00:00 logp = -2.130e+03]\n",
       "    </div>\n",
       "    "
      ],
      "text/plain": [
       "<IPython.core.display.HTML object>"
      ]
     },
     "metadata": {},
     "output_type": "display_data"
    },
    {
     "name": "stdout",
     "output_type": "stream",
     "text": [
      "\n"
     ]
    },
    {
     "name": "stderr",
     "output_type": "stream",
     "text": [
      "message: Optimization terminated successfully.\n",
      "logp: -7487.191191803724 -> -2129.5725026909513\n"
     ]
    },
    {
     "name": "stderr",
     "output_type": "stream",
     "text": [
      "optimizing logp for variables: [b, log_dur, Kepler_log_approx_depth, Kepler_u, Kepler_mean]\n"
     ]
    },
    {
     "data": {
      "text/html": [
       "\n",
       "<style>\n",
       "    /* Turns off some styling */\n",
       "    progress {\n",
       "        /* gets rid of default border in Firefox and Opera. */\n",
       "        border: none;\n",
       "        /* Needs to be in here for Safari polyfill so background images work as expected. */\n",
       "        background-size: auto;\n",
       "    }\n",
       "    .progress-bar-interrupted, .progress-bar-interrupted::-webkit-progress-bar {\n",
       "        background: #F44336;\n",
       "    }\n",
       "</style>\n"
      ],
      "text/plain": [
       "<IPython.core.display.HTML object>"
      ]
     },
     "metadata": {},
     "output_type": "display_data"
    },
    {
     "data": {
      "text/html": [
       "\n",
       "    <div>\n",
       "      <progress value='138' class='' max='138' style='width:300px; height:20px; vertical-align: middle;'></progress>\n",
       "      100.00% [138/138 00:01<00:00 logp = -1.214e+03]\n",
       "    </div>\n",
       "    "
      ],
      "text/plain": [
       "<IPython.core.display.HTML object>"
      ]
     },
     "metadata": {},
     "output_type": "display_data"
    },
    {
     "name": "stdout",
     "output_type": "stream",
     "text": [
      "\n"
     ]
    },
    {
     "name": "stderr",
     "output_type": "stream",
     "text": [
      "message: Desired error not necessarily achieved due to precision loss.\n",
      "logp: -2129.5725026909363 -> -1214.4800760991718\n"
     ]
    },
    {
     "name": "stderr",
     "output_type": "stream",
     "text": [
      "optimizing logp for variables: [TESS_sigma_gp, TESS_sigma]\n"
     ]
    },
    {
     "data": {
      "text/html": [
       "\n",
       "<style>\n",
       "    /* Turns off some styling */\n",
       "    progress {\n",
       "        /* gets rid of default border in Firefox and Opera. */\n",
       "        border: none;\n",
       "        /* Needs to be in here for Safari polyfill so background images work as expected. */\n",
       "        background-size: auto;\n",
       "    }\n",
       "    .progress-bar-interrupted, .progress-bar-interrupted::-webkit-progress-bar {\n",
       "        background: #F44336;\n",
       "    }\n",
       "</style>\n"
      ],
      "text/plain": [
       "<IPython.core.display.HTML object>"
      ]
     },
     "metadata": {},
     "output_type": "display_data"
    },
    {
     "data": {
      "text/html": [
       "\n",
       "    <div>\n",
       "      <progress value='11' class='' max='11' style='width:300px; height:20px; vertical-align: middle;'></progress>\n",
       "      100.00% [11/11 00:00<00:00 logp = -1.183e+03]\n",
       "    </div>\n",
       "    "
      ],
      "text/plain": [
       "<IPython.core.display.HTML object>"
      ]
     },
     "metadata": {},
     "output_type": "display_data"
    },
    {
     "name": "stdout",
     "output_type": "stream",
     "text": [
      "\n"
     ]
    },
    {
     "name": "stderr",
     "output_type": "stream",
     "text": [
      "message: Optimization terminated successfully.\n",
      "logp: -1214.48007609918 -> -1183.3252054792506\n"
     ]
    },
    {
     "name": "stderr",
     "output_type": "stream",
     "text": [
      "optimizing logp for variables: [b, log_dur, TESS_log_approx_depth, TESS_u, TESS_mean]\n"
     ]
    },
    {
     "data": {
      "text/html": [
       "\n",
       "<style>\n",
       "    /* Turns off some styling */\n",
       "    progress {\n",
       "        /* gets rid of default border in Firefox and Opera. */\n",
       "        border: none;\n",
       "        /* Needs to be in here for Safari polyfill so background images work as expected. */\n",
       "        background-size: auto;\n",
       "    }\n",
       "    .progress-bar-interrupted, .progress-bar-interrupted::-webkit-progress-bar {\n",
       "        background: #F44336;\n",
       "    }\n",
       "</style>\n"
      ],
      "text/plain": [
       "<IPython.core.display.HTML object>"
      ]
     },
     "metadata": {},
     "output_type": "display_data"
    },
    {
     "data": {
      "text/html": [
       "\n",
       "    <div>\n",
       "      <progress value='103' class='' max='103' style='width:300px; height:20px; vertical-align: middle;'></progress>\n",
       "      100.00% [103/103 00:00<00:00 logp = -1.129e+03]\n",
       "    </div>\n",
       "    "
      ],
      "text/plain": [
       "<IPython.core.display.HTML object>"
      ]
     },
     "metadata": {},
     "output_type": "display_data"
    },
    {
     "name": "stdout",
     "output_type": "stream",
     "text": [
      "\n"
     ]
    },
    {
     "name": "stderr",
     "output_type": "stream",
     "text": [
      "message: Desired error not necessarily achieved due to precision loss.\n",
      "logp: -1183.3252054792433 -> -1129.349709640334\n"
     ]
    },
    {
     "name": "stderr",
     "output_type": "stream",
     "text": [
      "optimizing logp for variables: [TESS_sigma_gp, TESS_sigma, TESS_log_approx_depth, TESS_u, TESS_mean, Kepler_sigma_gp, Kepler_sigma, Kepler_log_approx_depth, Kepler_u, Kepler_mean, rho_gp, b, log_dur, t0, log_period]\n"
     ]
    },
    {
     "data": {
      "text/html": [
       "\n",
       "<style>\n",
       "    /* Turns off some styling */\n",
       "    progress {\n",
       "        /* gets rid of default border in Firefox and Opera. */\n",
       "        border: none;\n",
       "        /* Needs to be in here for Safari polyfill so background images work as expected. */\n",
       "        background-size: auto;\n",
       "    }\n",
       "    .progress-bar-interrupted, .progress-bar-interrupted::-webkit-progress-bar {\n",
       "        background: #F44336;\n",
       "    }\n",
       "</style>\n"
      ],
      "text/plain": [
       "<IPython.core.display.HTML object>"
      ]
     },
     "metadata": {},
     "output_type": "display_data"
    },
    {
     "data": {
      "text/html": [
       "\n",
       "    <div>\n",
       "      <progress value='112' class='' max='112' style='width:300px; height:20px; vertical-align: middle;'></progress>\n",
       "      100.00% [112/112 00:01<00:00 logp = 4.508e+02]\n",
       "    </div>\n",
       "    "
      ],
      "text/plain": [
       "<IPython.core.display.HTML object>"
      ]
     },
     "metadata": {},
     "output_type": "display_data"
    },
    {
     "name": "stdout",
     "output_type": "stream",
     "text": [
      "\n"
     ]
    },
    {
     "name": "stderr",
     "output_type": "stream",
     "text": [
      "message: Desired error not necessarily achieved due to precision loss.\n",
      "logp: -1129.349709640334 -> 450.8327422396478\n"
     ]
    },
    {
     "name": "stdout",
     "output_type": "stream",
     "text": [
      "Sigma clipped 85 Kepler light curve points\n"
     ]
    },
    {
     "name": "stdout",
     "output_type": "stream",
     "text": [
      "Sigma clipped 5 TESS light curve points\n"
     ]
    },
    {
     "name": "stderr",
     "output_type": "stream",
     "text": [
      "optimizing logp for variables: [Kepler_log_approx_depth, Kepler_u, Kepler_mean]\n"
     ]
    },
    {
     "data": {
      "text/html": [
       "\n",
       "<style>\n",
       "    /* Turns off some styling */\n",
       "    progress {\n",
       "        /* gets rid of default border in Firefox and Opera. */\n",
       "        border: none;\n",
       "        /* Needs to be in here for Safari polyfill so background images work as expected. */\n",
       "        background-size: auto;\n",
       "    }\n",
       "    .progress-bar-interrupted, .progress-bar-interrupted::-webkit-progress-bar {\n",
       "        background: #F44336;\n",
       "    }\n",
       "</style>\n"
      ],
      "text/plain": [
       "<IPython.core.display.HTML object>"
      ]
     },
     "metadata": {},
     "output_type": "display_data"
    },
    {
     "data": {
      "text/html": [
       "\n",
       "    <div>\n",
       "      <progress value='140' class='' max='140' style='width:300px; height:20px; vertical-align: middle;'></progress>\n",
       "      100.00% [140/140 00:01<00:00 logp = -4.580e+03]\n",
       "    </div>\n",
       "    "
      ],
      "text/plain": [
       "<IPython.core.display.HTML object>"
      ]
     },
     "metadata": {},
     "output_type": "display_data"
    },
    {
     "name": "stdout",
     "output_type": "stream",
     "text": [
      "\n"
     ]
    },
    {
     "name": "stderr",
     "output_type": "stream",
     "text": [
      "message: Desired error not necessarily achieved due to precision loss.\n",
      "logp: -33780.41785260407 -> -4579.641145818629\n"
     ]
    },
    {
     "name": "stderr",
     "output_type": "stream",
     "text": [
      "optimizing logp for variables: [TESS_log_approx_depth, TESS_u, TESS_mean]\n"
     ]
    },
    {
     "data": {
      "text/html": [
       "\n",
       "<style>\n",
       "    /* Turns off some styling */\n",
       "    progress {\n",
       "        /* gets rid of default border in Firefox and Opera. */\n",
       "        border: none;\n",
       "        /* Needs to be in here for Safari polyfill so background images work as expected. */\n",
       "        background-size: auto;\n",
       "    }\n",
       "    .progress-bar-interrupted, .progress-bar-interrupted::-webkit-progress-bar {\n",
       "        background: #F44336;\n",
       "    }\n",
       "</style>\n"
      ],
      "text/plain": [
       "<IPython.core.display.HTML object>"
      ]
     },
     "metadata": {},
     "output_type": "display_data"
    },
    {
     "data": {
      "text/html": [
       "\n",
       "    <div>\n",
       "      <progress value='83' class='' max='83' style='width:300px; height:20px; vertical-align: middle;'></progress>\n",
       "      100.00% [83/83 00:00<00:00 logp = -4.371e+03]\n",
       "    </div>\n",
       "    "
      ],
      "text/plain": [
       "<IPython.core.display.HTML object>"
      ]
     },
     "metadata": {},
     "output_type": "display_data"
    },
    {
     "name": "stdout",
     "output_type": "stream",
     "text": [
      "\n"
     ]
    },
    {
     "name": "stderr",
     "output_type": "stream",
     "text": [
      "message: Desired error not necessarily achieved due to precision loss.\n",
      "logp: -4579.641145818629 -> -4371.468963214385\n"
     ]
    },
    {
     "name": "stderr",
     "output_type": "stream",
     "text": [
      "optimizing logp for variables: [Kepler_sigma_gp, Kepler_sigma]\n"
     ]
    },
    {
     "data": {
      "text/html": [
       "\n",
       "<style>\n",
       "    /* Turns off some styling */\n",
       "    progress {\n",
       "        /* gets rid of default border in Firefox and Opera. */\n",
       "        border: none;\n",
       "        /* Needs to be in here for Safari polyfill so background images work as expected. */\n",
       "        background-size: auto;\n",
       "    }\n",
       "    .progress-bar-interrupted, .progress-bar-interrupted::-webkit-progress-bar {\n",
       "        background: #F44336;\n",
       "    }\n",
       "</style>\n"
      ],
      "text/plain": [
       "<IPython.core.display.HTML object>"
      ]
     },
     "metadata": {},
     "output_type": "display_data"
    },
    {
     "data": {
      "text/html": [
       "\n",
       "    <div>\n",
       "      <progress value='16' class='' max='16' style='width:300px; height:20px; vertical-align: middle;'></progress>\n",
       "      100.00% [16/16 00:00<00:00 logp = -1.579e+03]\n",
       "    </div>\n",
       "    "
      ],
      "text/plain": [
       "<IPython.core.display.HTML object>"
      ]
     },
     "metadata": {},
     "output_type": "display_data"
    },
    {
     "name": "stdout",
     "output_type": "stream",
     "text": [
      "\n"
     ]
    },
    {
     "name": "stderr",
     "output_type": "stream",
     "text": [
      "message: Optimization terminated successfully.\n",
      "logp: -4371.468963214385 -> -1578.8758995074413\n"
     ]
    },
    {
     "name": "stderr",
     "output_type": "stream",
     "text": [
      "optimizing logp for variables: [b, log_dur, Kepler_log_approx_depth, Kepler_u, Kepler_mean]\n"
     ]
    },
    {
     "data": {
      "text/html": [
       "\n",
       "<style>\n",
       "    /* Turns off some styling */\n",
       "    progress {\n",
       "        /* gets rid of default border in Firefox and Opera. */\n",
       "        border: none;\n",
       "        /* Needs to be in here for Safari polyfill so background images work as expected. */\n",
       "        background-size: auto;\n",
       "    }\n",
       "    .progress-bar-interrupted, .progress-bar-interrupted::-webkit-progress-bar {\n",
       "        background: #F44336;\n",
       "    }\n",
       "</style>\n"
      ],
      "text/plain": [
       "<IPython.core.display.HTML object>"
      ]
     },
     "metadata": {},
     "output_type": "display_data"
    },
    {
     "data": {
      "text/html": [
       "\n",
       "    <div>\n",
       "      <progress value='135' class='' max='135' style='width:300px; height:20px; vertical-align: middle;'></progress>\n",
       "      100.00% [135/135 00:01<00:00 logp = -4.444e+02]\n",
       "    </div>\n",
       "    "
      ],
      "text/plain": [
       "<IPython.core.display.HTML object>"
      ]
     },
     "metadata": {},
     "output_type": "display_data"
    },
    {
     "name": "stdout",
     "output_type": "stream",
     "text": [
      "\n"
     ]
    },
    {
     "name": "stderr",
     "output_type": "stream",
     "text": [
      "message: Desired error not necessarily achieved due to precision loss.\n",
      "logp: -1578.8758995074386 -> -444.3579760132038\n"
     ]
    },
    {
     "name": "stderr",
     "output_type": "stream",
     "text": [
      "optimizing logp for variables: [TESS_sigma_gp, TESS_sigma]\n"
     ]
    },
    {
     "data": {
      "text/html": [
       "\n",
       "<style>\n",
       "    /* Turns off some styling */\n",
       "    progress {\n",
       "        /* gets rid of default border in Firefox and Opera. */\n",
       "        border: none;\n",
       "        /* Needs to be in here for Safari polyfill so background images work as expected. */\n",
       "        background-size: auto;\n",
       "    }\n",
       "    .progress-bar-interrupted, .progress-bar-interrupted::-webkit-progress-bar {\n",
       "        background: #F44336;\n",
       "    }\n",
       "</style>\n"
      ],
      "text/plain": [
       "<IPython.core.display.HTML object>"
      ]
     },
     "metadata": {},
     "output_type": "display_data"
    },
    {
     "data": {
      "text/html": [
       "\n",
       "    <div>\n",
       "      <progress value='11' class='' max='11' style='width:300px; height:20px; vertical-align: middle;'></progress>\n",
       "      100.00% [11/11 00:00<00:00 logp = -4.005e+02]\n",
       "    </div>\n",
       "    "
      ],
      "text/plain": [
       "<IPython.core.display.HTML object>"
      ]
     },
     "metadata": {},
     "output_type": "display_data"
    },
    {
     "name": "stdout",
     "output_type": "stream",
     "text": [
      "\n"
     ]
    },
    {
     "name": "stderr",
     "output_type": "stream",
     "text": [
      "message: Optimization terminated successfully.\n",
      "logp: -444.3579760132052 -> -400.4764597012577\n"
     ]
    },
    {
     "name": "stderr",
     "output_type": "stream",
     "text": [
      "optimizing logp for variables: [b, log_dur, TESS_log_approx_depth, TESS_u, TESS_mean]\n"
     ]
    },
    {
     "data": {
      "text/html": [
       "\n",
       "<style>\n",
       "    /* Turns off some styling */\n",
       "    progress {\n",
       "        /* gets rid of default border in Firefox and Opera. */\n",
       "        border: none;\n",
       "        /* Needs to be in here for Safari polyfill so background images work as expected. */\n",
       "        background-size: auto;\n",
       "    }\n",
       "    .progress-bar-interrupted, .progress-bar-interrupted::-webkit-progress-bar {\n",
       "        background: #F44336;\n",
       "    }\n",
       "</style>\n"
      ],
      "text/plain": [
       "<IPython.core.display.HTML object>"
      ]
     },
     "metadata": {},
     "output_type": "display_data"
    },
    {
     "data": {
      "text/html": [
       "\n",
       "    <div>\n",
       "      <progress value='61' class='' max='61' style='width:300px; height:20px; vertical-align: middle;'></progress>\n",
       "      100.00% [61/61 00:00<00:00 logp = -3.441e+02]\n",
       "    </div>\n",
       "    "
      ],
      "text/plain": [
       "<IPython.core.display.HTML object>"
      ]
     },
     "metadata": {},
     "output_type": "display_data"
    },
    {
     "name": "stdout",
     "output_type": "stream",
     "text": [
      "\n"
     ]
    },
    {
     "name": "stderr",
     "output_type": "stream",
     "text": [
      "message: Desired error not necessarily achieved due to precision loss.\n",
      "logp: -400.47645970125814 -> -344.0779988830818\n"
     ]
    },
    {
     "name": "stderr",
     "output_type": "stream",
     "text": [
      "optimizing logp for variables: [TESS_sigma_gp, TESS_sigma, TESS_log_approx_depth, TESS_u, TESS_mean, Kepler_sigma_gp, Kepler_sigma, Kepler_log_approx_depth, Kepler_u, Kepler_mean, rho_gp, b, log_dur, t0, log_period]\n"
     ]
    },
    {
     "data": {
      "text/html": [
       "\n",
       "<style>\n",
       "    /* Turns off some styling */\n",
       "    progress {\n",
       "        /* gets rid of default border in Firefox and Opera. */\n",
       "        border: none;\n",
       "        /* Needs to be in here for Safari polyfill so background images work as expected. */\n",
       "        background-size: auto;\n",
       "    }\n",
       "    .progress-bar-interrupted, .progress-bar-interrupted::-webkit-progress-bar {\n",
       "        background: #F44336;\n",
       "    }\n",
       "</style>\n"
      ],
      "text/plain": [
       "<IPython.core.display.HTML object>"
      ]
     },
     "metadata": {},
     "output_type": "display_data"
    },
    {
     "data": {
      "text/html": [
       "\n",
       "    <div>\n",
       "      <progress value='134' class='' max='134' style='width:300px; height:20px; vertical-align: middle;'></progress>\n",
       "      100.00% [134/134 00:01<00:00 logp = 1.666e+03]\n",
       "    </div>\n",
       "    "
      ],
      "text/plain": [
       "<IPython.core.display.HTML object>"
      ]
     },
     "metadata": {},
     "output_type": "display_data"
    },
    {
     "name": "stdout",
     "output_type": "stream",
     "text": [
      "\n"
     ]
    },
    {
     "name": "stderr",
     "output_type": "stream",
     "text": [
      "message: Desired error not necessarily achieved due to precision loss.\n",
      "logp: -344.0779988830818 -> 1666.232312891722\n"
     ]
    },
    {
     "name": "stdout",
     "output_type": "stream",
     "text": [
      "Sigma clipped 25 Kepler light curve points\n"
     ]
    },
    {
     "name": "stdout",
     "output_type": "stream",
     "text": [
      "Sigma clipped 0 TESS light curve points\n"
     ]
    },
    {
     "name": "stderr",
     "output_type": "stream",
     "text": [
      "optimizing logp for variables: [Kepler_log_approx_depth, Kepler_u, Kepler_mean]\n"
     ]
    },
    {
     "data": {
      "text/html": [
       "\n",
       "<style>\n",
       "    /* Turns off some styling */\n",
       "    progress {\n",
       "        /* gets rid of default border in Firefox and Opera. */\n",
       "        border: none;\n",
       "        /* Needs to be in here for Safari polyfill so background images work as expected. */\n",
       "        background-size: auto;\n",
       "    }\n",
       "    .progress-bar-interrupted, .progress-bar-interrupted::-webkit-progress-bar {\n",
       "        background: #F44336;\n",
       "    }\n",
       "</style>\n"
      ],
      "text/plain": [
       "<IPython.core.display.HTML object>"
      ]
     },
     "metadata": {},
     "output_type": "display_data"
    },
    {
     "data": {
      "text/html": [
       "\n",
       "    <div>\n",
       "      <progress value='65' class='' max='65' style='width:300px; height:20px; vertical-align: middle;'></progress>\n",
       "      100.00% [65/65 00:00<00:00 logp = -4.296e+03]\n",
       "    </div>\n",
       "    "
      ],
      "text/plain": [
       "<IPython.core.display.HTML object>"
      ]
     },
     "metadata": {},
     "output_type": "display_data"
    },
    {
     "name": "stdout",
     "output_type": "stream",
     "text": [
      "\n"
     ]
    },
    {
     "name": "stderr",
     "output_type": "stream",
     "text": [
      "message: Optimization terminated successfully.\n",
      "logp: -33497.08903313941 -> -4296.353798783744\n"
     ]
    },
    {
     "name": "stderr",
     "output_type": "stream",
     "text": [
      "optimizing logp for variables: [TESS_log_approx_depth, TESS_u, TESS_mean]\n"
     ]
    },
    {
     "data": {
      "text/html": [
       "\n",
       "<style>\n",
       "    /* Turns off some styling */\n",
       "    progress {\n",
       "        /* gets rid of default border in Firefox and Opera. */\n",
       "        border: none;\n",
       "        /* Needs to be in here for Safari polyfill so background images work as expected. */\n",
       "        background-size: auto;\n",
       "    }\n",
       "    .progress-bar-interrupted, .progress-bar-interrupted::-webkit-progress-bar {\n",
       "        background: #F44336;\n",
       "    }\n",
       "</style>\n"
      ],
      "text/plain": [
       "<IPython.core.display.HTML object>"
      ]
     },
     "metadata": {},
     "output_type": "display_data"
    },
    {
     "data": {
      "text/html": [
       "\n",
       "    <div>\n",
       "      <progress value='23' class='' max='23' style='width:300px; height:20px; vertical-align: middle;'></progress>\n",
       "      100.00% [23/23 00:00<00:00 logp = -4.088e+03]\n",
       "    </div>\n",
       "    "
      ],
      "text/plain": [
       "<IPython.core.display.HTML object>"
      ]
     },
     "metadata": {},
     "output_type": "display_data"
    },
    {
     "name": "stdout",
     "output_type": "stream",
     "text": [
      "\n"
     ]
    },
    {
     "name": "stderr",
     "output_type": "stream",
     "text": [
      "message: Optimization terminated successfully.\n",
      "logp: -4296.353798783744 -> -4088.181616179497\n"
     ]
    },
    {
     "name": "stderr",
     "output_type": "stream",
     "text": [
      "optimizing logp for variables: [Kepler_sigma_gp, Kepler_sigma]\n"
     ]
    },
    {
     "data": {
      "text/html": [
       "\n",
       "<style>\n",
       "    /* Turns off some styling */\n",
       "    progress {\n",
       "        /* gets rid of default border in Firefox and Opera. */\n",
       "        border: none;\n",
       "        /* Needs to be in here for Safari polyfill so background images work as expected. */\n",
       "        background-size: auto;\n",
       "    }\n",
       "    .progress-bar-interrupted, .progress-bar-interrupted::-webkit-progress-bar {\n",
       "        background: #F44336;\n",
       "    }\n",
       "</style>\n"
      ],
      "text/plain": [
       "<IPython.core.display.HTML object>"
      ]
     },
     "metadata": {},
     "output_type": "display_data"
    },
    {
     "data": {
      "text/html": [
       "\n",
       "    <div>\n",
       "      <progress value='67' class='' max='67' style='width:300px; height:20px; vertical-align: middle;'></progress>\n",
       "      100.00% [67/67 00:00<00:00 logp = -1.533e+03]\n",
       "    </div>\n",
       "    "
      ],
      "text/plain": [
       "<IPython.core.display.HTML object>"
      ]
     },
     "metadata": {},
     "output_type": "display_data"
    },
    {
     "name": "stdout",
     "output_type": "stream",
     "text": [
      "\n"
     ]
    },
    {
     "name": "stderr",
     "output_type": "stream",
     "text": [
      "message: Desired error not necessarily achieved due to precision loss.\n",
      "logp: -4088.181616179497 -> -1533.051893660302\n"
     ]
    },
    {
     "name": "stderr",
     "output_type": "stream",
     "text": [
      "optimizing logp for variables: [b, log_dur, Kepler_log_approx_depth, Kepler_u, Kepler_mean]\n"
     ]
    },
    {
     "data": {
      "text/html": [
       "\n",
       "<style>\n",
       "    /* Turns off some styling */\n",
       "    progress {\n",
       "        /* gets rid of default border in Firefox and Opera. */\n",
       "        border: none;\n",
       "        /* Needs to be in here for Safari polyfill so background images work as expected. */\n",
       "        background-size: auto;\n",
       "    }\n",
       "    .progress-bar-interrupted, .progress-bar-interrupted::-webkit-progress-bar {\n",
       "        background: #F44336;\n",
       "    }\n",
       "</style>\n"
      ],
      "text/plain": [
       "<IPython.core.display.HTML object>"
      ]
     },
     "metadata": {},
     "output_type": "display_data"
    },
    {
     "data": {
      "text/html": [
       "\n",
       "    <div>\n",
       "      <progress value='64' class='' max='64' style='width:300px; height:20px; vertical-align: middle;'></progress>\n",
       "      100.00% [64/64 00:00<00:00 logp = -3.666e+02]\n",
       "    </div>\n",
       "    "
      ],
      "text/plain": [
       "<IPython.core.display.HTML object>"
      ]
     },
     "metadata": {},
     "output_type": "display_data"
    },
    {
     "name": "stdout",
     "output_type": "stream",
     "text": [
      "\n"
     ]
    },
    {
     "name": "stderr",
     "output_type": "stream",
     "text": [
      "message: Optimization terminated successfully.\n",
      "logp: -1533.0518936603007 -> -366.59209630661235\n"
     ]
    },
    {
     "name": "stderr",
     "output_type": "stream",
     "text": [
      "optimizing logp for variables: [TESS_sigma_gp, TESS_sigma]\n"
     ]
    },
    {
     "data": {
      "text/html": [
       "\n",
       "<style>\n",
       "    /* Turns off some styling */\n",
       "    progress {\n",
       "        /* gets rid of default border in Firefox and Opera. */\n",
       "        border: none;\n",
       "        /* Needs to be in here for Safari polyfill so background images work as expected. */\n",
       "        background-size: auto;\n",
       "    }\n",
       "    .progress-bar-interrupted, .progress-bar-interrupted::-webkit-progress-bar {\n",
       "        background: #F44336;\n",
       "    }\n",
       "</style>\n"
      ],
      "text/plain": [
       "<IPython.core.display.HTML object>"
      ]
     },
     "metadata": {},
     "output_type": "display_data"
    },
    {
     "data": {
      "text/html": [
       "\n",
       "    <div>\n",
       "      <progress value='10' class='' max='10' style='width:300px; height:20px; vertical-align: middle;'></progress>\n",
       "      100.00% [10/10 00:00<00:00 logp = -3.223e+02]\n",
       "    </div>\n",
       "    "
      ],
      "text/plain": [
       "<IPython.core.display.HTML object>"
      ]
     },
     "metadata": {},
     "output_type": "display_data"
    },
    {
     "name": "stdout",
     "output_type": "stream",
     "text": [
      "\n"
     ]
    },
    {
     "name": "stderr",
     "output_type": "stream",
     "text": [
      "message: Optimization terminated successfully.\n",
      "logp: -366.59209630663054 -> -322.3472945254148\n"
     ]
    },
    {
     "name": "stderr",
     "output_type": "stream",
     "text": [
      "optimizing logp for variables: [b, log_dur, TESS_log_approx_depth, TESS_u, TESS_mean]\n"
     ]
    },
    {
     "data": {
      "text/html": [
       "\n",
       "<style>\n",
       "    /* Turns off some styling */\n",
       "    progress {\n",
       "        /* gets rid of default border in Firefox and Opera. */\n",
       "        border: none;\n",
       "        /* Needs to be in here for Safari polyfill so background images work as expected. */\n",
       "        background-size: auto;\n",
       "    }\n",
       "    .progress-bar-interrupted, .progress-bar-interrupted::-webkit-progress-bar {\n",
       "        background: #F44336;\n",
       "    }\n",
       "</style>\n"
      ],
      "text/plain": [
       "<IPython.core.display.HTML object>"
      ]
     },
     "metadata": {},
     "output_type": "display_data"
    },
    {
     "data": {
      "text/html": [
       "\n",
       "    <div>\n",
       "      <progress value='64' class='' max='64' style='width:300px; height:20px; vertical-align: middle;'></progress>\n",
       "      100.00% [64/64 00:00<00:00 logp = -2.682e+02]\n",
       "    </div>\n",
       "    "
      ],
      "text/plain": [
       "<IPython.core.display.HTML object>"
      ]
     },
     "metadata": {},
     "output_type": "display_data"
    },
    {
     "name": "stdout",
     "output_type": "stream",
     "text": [
      "\n"
     ]
    },
    {
     "name": "stderr",
     "output_type": "stream",
     "text": [
      "message: Optimization terminated successfully.\n",
      "logp: -322.34729452539887 -> -268.1962541098783\n"
     ]
    },
    {
     "name": "stderr",
     "output_type": "stream",
     "text": [
      "optimizing logp for variables: [TESS_sigma_gp, TESS_sigma, TESS_log_approx_depth, TESS_u, TESS_mean, Kepler_sigma_gp, Kepler_sigma, Kepler_log_approx_depth, Kepler_u, Kepler_mean, rho_gp, b, log_dur, t0, log_period]\n"
     ]
    },
    {
     "data": {
      "text/html": [
       "\n",
       "<style>\n",
       "    /* Turns off some styling */\n",
       "    progress {\n",
       "        /* gets rid of default border in Firefox and Opera. */\n",
       "        border: none;\n",
       "        /* Needs to be in here for Safari polyfill so background images work as expected. */\n",
       "        background-size: auto;\n",
       "    }\n",
       "    .progress-bar-interrupted, .progress-bar-interrupted::-webkit-progress-bar {\n",
       "        background: #F44336;\n",
       "    }\n",
       "</style>\n"
      ],
      "text/plain": [
       "<IPython.core.display.HTML object>"
      ]
     },
     "metadata": {},
     "output_type": "display_data"
    },
    {
     "data": {
      "text/html": [
       "\n",
       "    <div>\n",
       "      <progress value='102' class='' max='102' style='width:300px; height:20px; vertical-align: middle;'></progress>\n",
       "      100.00% [102/102 00:00<00:00 logp = 1.852e+03]\n",
       "    </div>\n",
       "    "
      ],
      "text/plain": [
       "<IPython.core.display.HTML object>"
      ]
     },
     "metadata": {},
     "output_type": "display_data"
    },
    {
     "name": "stdout",
     "output_type": "stream",
     "text": [
      "\n"
     ]
    },
    {
     "name": "stderr",
     "output_type": "stream",
     "text": [
      "message: Desired error not necessarily achieved due to precision loss.\n",
      "logp: -268.1962541098783 -> 1851.8496467593586\n"
     ]
    },
    {
     "name": "stdout",
     "output_type": "stream",
     "text": [
      "Sigma clipped 7 Kepler light curve points\n"
     ]
    },
    {
     "name": "stdout",
     "output_type": "stream",
     "text": [
      "Sigma clipped 0 TESS light curve points\n"
     ]
    }
   ],
   "source": [
    "import pymc3 as pm\n",
    "import pymc3_ext as pmx\n",
    "import exoplanet as xo\n",
    "import aesara_theano_fallback.tensor as tt\n",
    "from functools import partial\n",
    "from celerite2.theano import terms, GaussianProcess\n",
    "\n",
    "# Find a reference transit time near the middle of the observations to avoid\n",
    "# strong covariances between period and t0\n",
    "x_min = min(np.min(x) for x, _, _, _ in datasets.values())\n",
    "x_max = max(np.max(x) for x, _, _, _ in datasets.values())\n",
    "x_mid = 0.5 * (x_min + x_max)\n",
    "t0_ref = lit_t0 + lit_period * np.round((x_mid - lit_t0) / lit_period)\n",
    "\n",
    "# Do several rounds of sigma clipping\n",
    "for i in range(10):\n",
    "    with pm.Model() as model:\n",
    "\n",
    "        # Shared orbital parameters\n",
    "        log_period = pm.Normal(\"log_period\", mu=np.log(lit_period), sigma=1.0)\n",
    "        period = pm.Deterministic(\"period\", tt.exp(log_period))\n",
    "        t0 = pm.Normal(\"t0\", mu=t0_ref, sigma=1.0)\n",
    "        log_dur = pm.Normal(\"log_dur\", mu=np.log(0.1), sigma=10.0)\n",
    "        dur = pm.Deterministic(\"dur\", tt.exp(log_dur))\n",
    "        b = pmx.UnitUniform(\"b\")\n",
    "        ld_arg = 1 - tt.sqrt(1 - b**2)\n",
    "        orbit = xo.orbits.KeplerianOrbit(\n",
    "            period=period, duration=dur, t0=t0, b=b\n",
    "        )\n",
    "\n",
    "        # We'll also say that the timescale of the GP will be shared\n",
    "        rho_gp = pm.InverseGamma(\n",
    "            \"rho_gp\",\n",
    "            testval=2.0,\n",
    "            **pmx.estimate_inverse_gamma_parameters(1.0, 5.0),\n",
    "        )\n",
    "\n",
    "        # Loop over the instruments\n",
    "        parameters = dict()\n",
    "        lc_models = dict()\n",
    "        gp_preds = dict()\n",
    "        gp_preds_with_mean = dict()\n",
    "        for n, (name, (x, y, yerr, texp)) in enumerate(datasets.items()):\n",
    "\n",
    "            # We define the per-instrument parameters in a submodel so that we\n",
    "            # don't have to prefix the names manually\n",
    "            with pm.Model(name=name, model=model):\n",
    "                # The flux zero point\n",
    "                mean = pm.Normal(\"mean\", mu=0.0, sigma=10.0)\n",
    "\n",
    "                # The limb darkening\n",
    "                u = xo.QuadLimbDark(\"u\")\n",
    "                star = xo.LimbDarkLightCurve(u)\n",
    "\n",
    "                # The radius ratio\n",
    "                log_approx_depth = pm.Normal(\n",
    "                    \"log_approx_depth\", mu=np.log(4e-3), sigma=10\n",
    "                )\n",
    "                ld = 1 - u[0] * ld_arg - u[1] * ld_arg**2\n",
    "                ror = pm.Deterministic(\n",
    "                    \"ror\", tt.exp(0.5 * log_approx_depth) / tt.sqrt(ld)\n",
    "                )\n",
    "\n",
    "                # Noise parameters\n",
    "                med_yerr = np.median(yerr)\n",
    "                std = np.std(y)\n",
    "                sigma = pm.InverseGamma(\n",
    "                    \"sigma\",\n",
    "                    testval=med_yerr,\n",
    "                    **pmx.estimate_inverse_gamma_parameters(\n",
    "                        med_yerr, 0.5 * std\n",
    "                    ),\n",
    "                )\n",
    "                sigma_gp = pm.InverseGamma(\n",
    "                    \"sigma_gp\",\n",
    "                    testval=0.5 * std,\n",
    "                    **pmx.estimate_inverse_gamma_parameters(\n",
    "                        med_yerr, 0.5 * std\n",
    "                    ),\n",
    "                )\n",
    "\n",
    "                # Keep track of the parameters for optimization\n",
    "                parameters[name] = [mean, u, log_approx_depth]\n",
    "                parameters[f\"{name}_noise\"] = [sigma, sigma_gp]\n",
    "\n",
    "            # The light curve model\n",
    "            def lc_model(mean, star, ror, texp, t):\n",
    "                return mean + 1e3 * tt.sum(\n",
    "                    star.get_light_curve(orbit=orbit, r=ror, t=t, texp=texp),\n",
    "                    axis=-1,\n",
    "                )\n",
    "\n",
    "            lc_model = partial(lc_model, mean, star, ror, texp)\n",
    "            lc_models[name] = lc_model\n",
    "\n",
    "            # The Gaussian Process noise model\n",
    "            kernel = terms.SHOTerm(sigma=sigma_gp, rho=rho_gp, Q=1.0 / 3)\n",
    "            gp = GaussianProcess(\n",
    "                kernel, t=x, diag=yerr**2 + sigma**2, mean=lc_model\n",
    "            )\n",
    "            gp.marginal(f\"{name}_obs\", observed=y)\n",
    "            gp_preds[name] = gp.predict(y, include_mean=False)\n",
    "            gp_preds_with_mean[name] = gp_preds[name] + gp.mean_value\n",
    "\n",
    "        # Optimize the model\n",
    "        map_soln = model.test_point\n",
    "        for name in datasets:\n",
    "            map_soln = pmx.optimize(map_soln, parameters[name])\n",
    "        for name in datasets:\n",
    "            map_soln = pmx.optimize(map_soln, parameters[f\"{name}_noise\"])\n",
    "            map_soln = pmx.optimize(map_soln, parameters[name] + [log_dur, b])\n",
    "        map_soln = pmx.optimize(map_soln)\n",
    "\n",
    "        # Do some sigma clipping\n",
    "        num = dict((name, len(datasets[name][0])) for name in datasets)\n",
    "        clipped = dict()\n",
    "        masks = dict()\n",
    "        for name in datasets:\n",
    "            mdl = pmx.eval_in_model(gp_preds_with_mean[name], map_soln)\n",
    "            resid = datasets[name][1] - mdl\n",
    "            sigma = np.sqrt(np.median((resid - np.median(resid)) ** 2))\n",
    "            masks[name] = np.abs(resid - np.median(resid)) < 7 * sigma\n",
    "            clipped[name] = num[name] - masks[name].sum()\n",
    "            print(f\"Sigma clipped {clipped[name]} {name} light curve points\")\n",
    "\n",
    "        if all(c < 10 for c in clipped.values()):\n",
    "            break\n",
    "\n",
    "        else:\n",
    "            for name in datasets:\n",
    "                datasets[name][0] = datasets[name][0][masks[name]]\n",
    "                datasets[name][1] = datasets[name][1][masks[name]]\n",
    "                datasets[name][2] = datasets[name][2][masks[name]]"
   ]
  },
  {
   "cell_type": "markdown",
   "id": "faf98001",
   "metadata": {},
   "source": [
    "Here are the two phased light curves (with the Gaussian process model removed).\n",
    "We can see the effect of exposure time integration and the difference in photometric precision, but everything should be looking good!"
   ]
  },
  {
   "cell_type": "code",
   "execution_count": 4,
   "id": "1d32bb53",
   "metadata": {
    "execution": {
     "iopub.execute_input": "2022-06-06T01:21:24.846337Z",
     "iopub.status.busy": "2022-06-06T01:21:24.845951Z",
     "iopub.status.idle": "2022-06-06T01:21:33.764199Z",
     "shell.execute_reply": "2022-06-06T01:21:33.762845Z"
    }
   },
   "outputs": [
    {
     "data": {
      "image/png": "[encoded data removed]",
      "text/plain": [
       "<Figure size 576x432 with 2 Axes>"
      ]
     },
     "metadata": {
      "needs_background": "light"
     },
     "output_type": "display_data"
    }
   ],
   "source": [
    "dt = np.linspace(-0.2, 0.2, 500)\n",
    "\n",
    "with model:\n",
    "    trends = pmx.eval_in_model([gp_preds[k] for k in datasets], map_soln)\n",
    "    phase_curves = pmx.eval_in_model(\n",
    "        [lc_models[k](t0 + dt) for k in datasets], map_soln\n",
    "    )\n",
    "\n",
    "fig, axes = plt.subplots(2, sharex=True, sharey=True, figsize=(8, 6))\n",
    "\n",
    "for n, name in enumerate(datasets):\n",
    "    ax = axes[n]\n",
    "\n",
    "    x, y = datasets[name][:2]\n",
    "\n",
    "    period = map_soln[\"period\"]\n",
    "    folded = (x - map_soln[\"t0\"] + 0.5 * period) % period - 0.5 * period\n",
    "    m = np.abs(folded) < 0.2\n",
    "    ax.plot(\n",
    "        folded[m],\n",
    "        (y - trends[n] - map_soln[f\"{name}_mean\"])[m],\n",
    "        \".k\",\n",
    "        alpha=0.3,\n",
    "        mec=\"none\",\n",
    "    )\n",
    "    ax.plot(\n",
    "        dt, phase_curves[n] - map_soln[f\"{name}_mean\"], f\"C{n}\", label=name\n",
    "    )\n",
    "    ax.annotate(\n",
    "        name,\n",
    "        xy=(1, 0),\n",
    "        xycoords=\"axes fraction\",\n",
    "        va=\"bottom\",\n",
    "        ha=\"right\",\n",
    "        xytext=(-3, 3),\n",
    "        textcoords=\"offset points\",\n",
    "        fontsize=14,\n",
    "    )\n",
    "\n",
    "axes[-1].set_xlim(-0.15, 0.15)\n",
    "axes[-1].set_xlabel(\"time since transit [days]\")\n",
    "for ax in axes:\n",
    "    ax.set_ylabel(\"relative flux [ppt]\")"
   ]
  },
  {
   "cell_type": "markdown",
   "id": "e1691f03",
   "metadata": {},
   "source": [
    "Then we run the MCMC:"
   ]
  },
  {
   "cell_type": "code",
   "execution_count": 5,
   "id": "b05c7cea",
   "metadata": {
    "execution": {
     "iopub.execute_input": "2022-06-06T01:21:33.769596Z",
     "iopub.status.busy": "2022-06-06T01:21:33.768624Z",
     "iopub.status.idle": "2022-06-06T01:32:59.319475Z",
     "shell.execute_reply": "2022-06-06T01:32:59.318417Z"
    }
   },
   "outputs": [
    {
     "name": "stderr",
     "output_type": "stream",
     "text": [
      "Multiprocess sampling (2 chains in 2 jobs)\n"
     ]
    },
    {
     "name": "stderr",
     "output_type": "stream",
     "text": [
      "NUTS: [TESS_sigma_gp, TESS_sigma, TESS_log_approx_depth, TESS_u, TESS_mean, Kepler_sigma_gp, Kepler_sigma, Kepler_log_approx_depth, Kepler_u, Kepler_mean, rho_gp, b, log_dur, t0, log_period]\n"
     ]
    },
    {
     "data": {
      "text/html": [
       "\n",
       "<style>\n",
       "    /* Turns off some styling */\n",
       "    progress {\n",
       "        /* gets rid of default border in Firefox and Opera. */\n",
       "        border: none;\n",
       "        /* Needs to be in here for Safari polyfill so background images work as expected. */\n",
       "        background-size: auto;\n",
       "    }\n",
       "    .progress-bar-interrupted, .progress-bar-interrupted::-webkit-progress-bar {\n",
       "        background: #F44336;\n",
       "    }\n",
       "</style>\n"
      ],
      "text/plain": [
       "<IPython.core.display.HTML object>"
      ]
     },
     "metadata": {},
     "output_type": "display_data"
    },
    {
     "data": {
      "text/html": [
       "\n",
       "    <div>\n",
       "      <progress value='6000' class='' max='6000' style='width:300px; height:20px; vertical-align: middle;'></progress>\n",
       "      100.00% [6000/6000 10:31<00:00 Sampling 2 chains, 0 divergences]\n",
       "    </div>\n",
       "    "
      ],
      "text/plain": [
       "<IPython.core.display.HTML object>"
      ]
     },
     "metadata": {},
     "output_type": "display_data"
    },
    {
     "name": "stderr",
     "output_type": "stream",
     "text": [
      "Sampling 2 chains for 1_500 tune and 1_500 draw iterations (3_000 + 3_000 draws total) took 632 seconds.\n"
     ]
    },
    {
     "name": "stderr",
     "output_type": "stream",
     "text": [
      "The number of effective samples is smaller than 10% for some parameters.\n"
     ]
    }
   ],
   "source": [
    "import platform\n",
    "\n",
    "with model:\n",
    "    trace = pmx.sample(\n",
    "        tune=1500,\n",
    "        draws=1500,\n",
    "        start=map_soln,\n",
    "        # Parallel sampling runs poorly or crashes on macos\n",
    "        cores=1 if platform.system() == \"Darwin\" else 2,\n",
    "        chains=2,\n",
    "        target_accept=0.95,\n",
    "        return_inferencedata=True,\n",
    "        random_seed=[11, 9],\n",
    "    )"
   ]
  },
  {
   "cell_type": "markdown",
   "id": "ca22b57e",
   "metadata": {},
   "source": [
    "And check the convergence diagnostics:"
   ]
  },
  {
   "cell_type": "code",
   "execution_count": 6,
   "id": "d1cbc411",
   "metadata": {
    "execution": {
     "iopub.execute_input": "2022-06-06T01:32:59.324755Z",
     "iopub.status.busy": "2022-06-06T01:32:59.323849Z",
     "iopub.status.idle": "2022-06-06T01:32:59.574070Z",
     "shell.execute_reply": "2022-06-06T01:32:59.573192Z"
    }
   },
   "outputs": [
    {
     "data": {
      "text/html": [
       "<div>\n",
       "<style scoped>\n",
       "    .dataframe tbody tr th:only-of-type {\n",
       "        vertical-align: middle;\n",
       "    }\n",
       "\n",
       "    .dataframe tbody tr th {\n",
       "        vertical-align: top;\n",
       "    }\n",
       "\n",
       "    .dataframe thead th {\n",
       "        text-align: right;\n",
       "    }\n",
       "</style>\n",
       "<table border=\"1\" class=\"dataframe\">\n",
       "  <thead>\n",
       "    <tr style=\"text-align: right;\">\n",
       "      <th></th>\n",
       "      <th>mean</th>\n",
       "      <th>sd</th>\n",
       "      <th>hdi_3%</th>\n",
       "      <th>hdi_97%</th>\n",
       "      <th>mcse_mean</th>\n",
       "      <th>mcse_sd</th>\n",
       "      <th>ess_bulk</th>\n",
       "      <th>ess_tail</th>\n",
       "      <th>r_hat</th>\n",
       "    </tr>\n",
       "  </thead>\n",
       "  <tbody>\n",
       "    <tr>\n",
       "      <th>log_period</th>\n",
       "      <td>1.587</td>\n",
       "      <td>0.000</td>\n",
       "      <td>1.587</td>\n",
       "      <td>1.587</td>\n",
       "      <td>0.000</td>\n",
       "      <td>0.000</td>\n",
       "      <td>3177.0</td>\n",
       "      <td>2358.0</td>\n",
       "      <td>1.00</td>\n",
       "    </tr>\n",
       "    <tr>\n",
       "      <th>t0</th>\n",
       "      <td>2011.505</td>\n",
       "      <td>0.000</td>\n",
       "      <td>2011.505</td>\n",
       "      <td>2011.505</td>\n",
       "      <td>0.000</td>\n",
       "      <td>0.000</td>\n",
       "      <td>3280.0</td>\n",
       "      <td>2189.0</td>\n",
       "      <td>1.00</td>\n",
       "    </tr>\n",
       "    <tr>\n",
       "      <th>log_dur</th>\n",
       "      <td>-2.388</td>\n",
       "      <td>0.002</td>\n",
       "      <td>-2.392</td>\n",
       "      <td>-2.383</td>\n",
       "      <td>0.000</td>\n",
       "      <td>0.000</td>\n",
       "      <td>399.0</td>\n",
       "      <td>488.0</td>\n",
       "      <td>1.01</td>\n",
       "    </tr>\n",
       "    <tr>\n",
       "      <th>Kepler_mean</th>\n",
       "      <td>-0.448</td>\n",
       "      <td>0.542</td>\n",
       "      <td>-1.430</td>\n",
       "      <td>0.610</td>\n",
       "      <td>0.010</td>\n",
       "      <td>0.008</td>\n",
       "      <td>2915.0</td>\n",
       "      <td>2172.0</td>\n",
       "      <td>1.00</td>\n",
       "    </tr>\n",
       "    <tr>\n",
       "      <th>Kepler_log_approx_depth</th>\n",
       "      <td>-5.684</td>\n",
       "      <td>0.003</td>\n",
       "      <td>-5.689</td>\n",
       "      <td>-5.678</td>\n",
       "      <td>0.000</td>\n",
       "      <td>0.000</td>\n",
       "      <td>1031.0</td>\n",
       "      <td>1468.0</td>\n",
       "      <td>1.00</td>\n",
       "    </tr>\n",
       "    <tr>\n",
       "      <th>TESS_mean</th>\n",
       "      <td>0.275</td>\n",
       "      <td>0.420</td>\n",
       "      <td>-0.510</td>\n",
       "      <td>1.105</td>\n",
       "      <td>0.008</td>\n",
       "      <td>0.007</td>\n",
       "      <td>3136.0</td>\n",
       "      <td>2317.0</td>\n",
       "      <td>1.00</td>\n",
       "    </tr>\n",
       "    <tr>\n",
       "      <th>TESS_log_approx_depth</th>\n",
       "      <td>-5.669</td>\n",
       "      <td>0.013</td>\n",
       "      <td>-5.694</td>\n",
       "      <td>-5.645</td>\n",
       "      <td>0.000</td>\n",
       "      <td>0.000</td>\n",
       "      <td>2403.0</td>\n",
       "      <td>1956.0</td>\n",
       "      <td>1.00</td>\n",
       "    </tr>\n",
       "    <tr>\n",
       "      <th>period</th>\n",
       "      <td>4.888</td>\n",
       "      <td>0.000</td>\n",
       "      <td>4.888</td>\n",
       "      <td>4.888</td>\n",
       "      <td>0.000</td>\n",
       "      <td>0.000</td>\n",
       "      <td>3177.0</td>\n",
       "      <td>2358.0</td>\n",
       "      <td>1.00</td>\n",
       "    </tr>\n",
       "    <tr>\n",
       "      <th>dur</th>\n",
       "      <td>0.092</td>\n",
       "      <td>0.000</td>\n",
       "      <td>0.091</td>\n",
       "      <td>0.092</td>\n",
       "      <td>0.000</td>\n",
       "      <td>0.000</td>\n",
       "      <td>399.0</td>\n",
       "      <td>488.0</td>\n",
       "      <td>1.01</td>\n",
       "    </tr>\n",
       "    <tr>\n",
       "      <th>b</th>\n",
       "      <td>0.386</td>\n",
       "      <td>0.076</td>\n",
       "      <td>0.250</td>\n",
       "      <td>0.503</td>\n",
       "      <td>0.007</td>\n",
       "      <td>0.005</td>\n",
       "      <td>238.0</td>\n",
       "      <td>138.0</td>\n",
       "      <td>1.01</td>\n",
       "    </tr>\n",
       "    <tr>\n",
       "      <th>rho_gp</th>\n",
       "      <td>15.852</td>\n",
       "      <td>1.095</td>\n",
       "      <td>13.849</td>\n",
       "      <td>17.948</td>\n",
       "      <td>0.019</td>\n",
       "      <td>0.013</td>\n",
       "      <td>3458.0</td>\n",
       "      <td>2329.0</td>\n",
       "      <td>1.00</td>\n",
       "    </tr>\n",
       "    <tr>\n",
       "      <th>Kepler_u[0]</th>\n",
       "      <td>0.726</td>\n",
       "      <td>0.026</td>\n",
       "      <td>0.676</td>\n",
       "      <td>0.774</td>\n",
       "      <td>0.001</td>\n",
       "      <td>0.001</td>\n",
       "      <td>305.0</td>\n",
       "      <td>207.0</td>\n",
       "      <td>1.01</td>\n",
       "    </tr>\n",
       "    <tr>\n",
       "      <th>Kepler_u[1]</th>\n",
       "      <td>-0.122</td>\n",
       "      <td>0.045</td>\n",
       "      <td>-0.204</td>\n",
       "      <td>-0.033</td>\n",
       "      <td>0.002</td>\n",
       "      <td>0.002</td>\n",
       "      <td>436.0</td>\n",
       "      <td>550.0</td>\n",
       "      <td>1.01</td>\n",
       "    </tr>\n",
       "    <tr>\n",
       "      <th>Kepler_ror</th>\n",
       "      <td>0.060</td>\n",
       "      <td>0.001</td>\n",
       "      <td>0.059</td>\n",
       "      <td>0.061</td>\n",
       "      <td>0.000</td>\n",
       "      <td>0.000</td>\n",
       "      <td>237.0</td>\n",
       "      <td>141.0</td>\n",
       "      <td>1.01</td>\n",
       "    </tr>\n",
       "    <tr>\n",
       "      <th>Kepler_sigma</th>\n",
       "      <td>0.043</td>\n",
       "      <td>0.001</td>\n",
       "      <td>0.042</td>\n",
       "      <td>0.044</td>\n",
       "      <td>0.000</td>\n",
       "      <td>0.000</td>\n",
       "      <td>3711.0</td>\n",
       "      <td>2175.0</td>\n",
       "      <td>1.00</td>\n",
       "    </tr>\n",
       "    <tr>\n",
       "      <th>Kepler_sigma_gp</th>\n",
       "      <td>4.796</td>\n",
       "      <td>0.269</td>\n",
       "      <td>4.326</td>\n",
       "      <td>5.302</td>\n",
       "      <td>0.005</td>\n",
       "      <td>0.003</td>\n",
       "      <td>3507.0</td>\n",
       "      <td>2354.0</td>\n",
       "      <td>1.00</td>\n",
       "    </tr>\n",
       "    <tr>\n",
       "      <th>TESS_u[0]</th>\n",
       "      <td>0.639</td>\n",
       "      <td>0.107</td>\n",
       "      <td>0.447</td>\n",
       "      <td>0.835</td>\n",
       "      <td>0.004</td>\n",
       "      <td>0.003</td>\n",
       "      <td>857.0</td>\n",
       "      <td>1398.0</td>\n",
       "      <td>1.00</td>\n",
       "    </tr>\n",
       "    <tr>\n",
       "      <th>TESS_u[1]</th>\n",
       "      <td>-0.165</td>\n",
       "      <td>0.149</td>\n",
       "      <td>-0.405</td>\n",
       "      <td>0.107</td>\n",
       "      <td>0.006</td>\n",
       "      <td>0.004</td>\n",
       "      <td>634.0</td>\n",
       "      <td>582.0</td>\n",
       "      <td>1.00</td>\n",
       "    </tr>\n",
       "    <tr>\n",
       "      <th>TESS_ror</th>\n",
       "      <td>0.060</td>\n",
       "      <td>0.001</td>\n",
       "      <td>0.059</td>\n",
       "      <td>0.061</td>\n",
       "      <td>0.000</td>\n",
       "      <td>0.000</td>\n",
       "      <td>280.0</td>\n",
       "      <td>160.0</td>\n",
       "      <td>1.01</td>\n",
       "    </tr>\n",
       "    <tr>\n",
       "      <th>TESS_sigma</th>\n",
       "      <td>0.421</td>\n",
       "      <td>0.014</td>\n",
       "      <td>0.394</td>\n",
       "      <td>0.448</td>\n",
       "      <td>0.000</td>\n",
       "      <td>0.000</td>\n",
       "      <td>2861.0</td>\n",
       "      <td>2047.0</td>\n",
       "      <td>1.00</td>\n",
       "    </tr>\n",
       "    <tr>\n",
       "      <th>TESS_sigma_gp</th>\n",
       "      <td>0.801</td>\n",
       "      <td>0.084</td>\n",
       "      <td>0.648</td>\n",
       "      <td>0.956</td>\n",
       "      <td>0.002</td>\n",
       "      <td>0.001</td>\n",
       "      <td>2959.0</td>\n",
       "      <td>2063.0</td>\n",
       "      <td>1.00</td>\n",
       "    </tr>\n",
       "  </tbody>\n",
       "</table>\n",
       "</div>"
      ],
      "text/plain": [
       "                             mean     sd    hdi_3%   hdi_97%  mcse_mean  \\\n",
       "log_period                  1.587  0.000     1.587     1.587      0.000   \n",
       "t0                       2011.505  0.000  2011.505  2011.505      0.000   \n",
       "log_dur                    -2.388  0.002    -2.392    -2.383      0.000   \n",
       "Kepler_mean                -0.448  0.542    -1.430     0.610      0.010   \n",
       "Kepler_log_approx_depth    -5.684  0.003    -5.689    -5.678      0.000   \n",
       "TESS_mean                   0.275  0.420    -0.510     1.105      0.008   \n",
       "TESS_log_approx_depth      -5.669  0.013    -5.694    -5.645      0.000   \n",
       "period                      4.888  0.000     4.888     4.888      0.000   \n",
       "dur                         0.092  0.000     0.091     0.092      0.000   \n",
       "b                           0.386  0.076     0.250     0.503      0.007   \n",
       "rho_gp                     15.852  1.095    13.849    17.948      0.019   \n",
       "Kepler_u[0]                 0.726  0.026     0.676     0.774      0.001   \n",
       "Kepler_u[1]                -0.122  0.045    -0.204    -0.033      0.002   \n",
       "Kepler_ror                  0.060  0.001     0.059     0.061      0.000   \n",
       "Kepler_sigma                0.043  0.001     0.042     0.044      0.000   \n",
       "Kepler_sigma_gp             4.796  0.269     4.326     5.302      0.005   \n",
       "TESS_u[0]                   0.639  0.107     0.447     0.835      0.004   \n",
       "TESS_u[1]                  -0.165  0.149    -0.405     0.107      0.006   \n",
       "TESS_ror                    0.060  0.001     0.059     0.061      0.000   \n",
       "TESS_sigma                  0.421  0.014     0.394     0.448      0.000   \n",
       "TESS_sigma_gp               0.801  0.084     0.648     0.956      0.002   \n",
       "\n",
       "                         mcse_sd  ess_bulk  ess_tail  r_hat  \n",
       "log_period                 0.000    3177.0    2358.0   1.00  \n",
       "t0                         0.000    3280.0    2189.0   1.00  \n",
       "log_dur                    0.000     399.0     488.0   1.01  \n",
       "Kepler_mean                0.008    2915.0    2172.0   1.00  \n",
       "Kepler_log_approx_depth    0.000    1031.0    1468.0   1.00  \n",
       "TESS_mean                  0.007    3136.0    2317.0   1.00  \n",
       "TESS_log_approx_depth      0.000    2403.0    1956.0   1.00  \n",
       "period                     0.000    3177.0    2358.0   1.00  \n",
       "dur                        0.000     399.0     488.0   1.01  \n",
       "b                          0.005     238.0     138.0   1.01  \n",
       "rho_gp                     0.013    3458.0    2329.0   1.00  \n",
       "Kepler_u[0]                0.001     305.0     207.0   1.01  \n",
       "Kepler_u[1]                0.002     436.0     550.0   1.01  \n",
       "Kepler_ror                 0.000     237.0     141.0   1.01  \n",
       "Kepler_sigma               0.000    3711.0    2175.0   1.00  \n",
       "Kepler_sigma_gp            0.003    3507.0    2354.0   1.00  \n",
       "TESS_u[0]                  0.003     857.0    1398.0   1.00  \n",
       "TESS_u[1]                  0.004     634.0     582.0   1.00  \n",
       "TESS_ror                   0.000     280.0     160.0   1.01  \n",
       "TESS_sigma                 0.000    2861.0    2047.0   1.00  \n",
       "TESS_sigma_gp              0.001    2959.0    2063.0   1.00  "
      ]
     },
     "execution_count": 6,
     "metadata": {},
     "output_type": "execute_result"
    }
   ],
   "source": [
    "import arviz as az\n",
    "\n",
    "az.summary(trace)"
   ]
  },
  {
   "cell_type": "markdown",
   "id": "f4c2fd5f",
   "metadata": {},
   "source": [
    "Since we fit for a radius ratio in each band, we can see if the transit depth is different in Kepler compared to TESS.\n",
    "The plot below demonstrates that there is no statistically significant difference between the radii measured in these two bands:"
   ]
  },
  {
   "cell_type": "code",
   "execution_count": 7,
   "id": "ba50274e",
   "metadata": {
    "execution": {
     "iopub.execute_input": "2022-06-06T01:32:59.578463Z",
     "iopub.status.busy": "2022-06-06T01:32:59.578156Z",
     "iopub.status.idle": "2022-06-06T01:32:59.725019Z",
     "shell.execute_reply": "2022-06-06T01:32:59.724247Z"
    }
   },
   "outputs": [
    {
     "data": {
      "image/png": "[encoded data removed]",
      "text/plain": [
       "<Figure size 432x288 with 1 Axes>"
      ]
     },
     "metadata": {
      "needs_background": "light"
     },
     "output_type": "display_data"
    }
   ],
   "source": [
    "plt.hist(\n",
    "    trace.posterior[\"Kepler_ror\"].values.flatten(),\n",
    "    20,\n",
    "    density=True,\n",
    "    histtype=\"step\",\n",
    "    label=\"Kepler\",\n",
    ")\n",
    "plt.hist(\n",
    "    trace.posterior[\"TESS_ror\"].values.flatten(),\n",
    "    20,\n",
    "    density=True,\n",
    "    histtype=\"step\",\n",
    "    label=\"TESS\",\n",
    ")\n",
    "plt.yticks([])\n",
    "plt.xlabel(\"effective radius ratio\")\n",
    "_ = plt.legend(fontsize=12)"
   ]
  },
  {
   "cell_type": "markdown",
   "id": "54bd6aab",
   "metadata": {},
   "source": [
    "We can also compare the inferred limb-darkening coefficients:"
   ]
  },
  {
   "cell_type": "code",
   "execution_count": 8,
   "id": "bb21e376",
   "metadata": {
    "execution": {
     "iopub.execute_input": "2022-06-06T01:32:59.730136Z",
     "iopub.status.busy": "2022-06-06T01:32:59.728895Z",
     "iopub.status.idle": "2022-06-06T01:33:00.221045Z",
     "shell.execute_reply": "2022-06-06T01:33:00.220134Z"
    }
   },
   "outputs": [
    {
     "data": {
      "image/png": "[encoded data removed]",
      "text/plain": [
       "<Figure size 396x396 with 4 Axes>"
      ]
     },
     "metadata": {
      "needs_background": "light"
     },
     "output_type": "display_data"
    }
   ],
   "source": [
    "import corner\n",
    "\n",
    "fig = corner.corner(\n",
    "    trace,\n",
    "    var_names=[\"TESS_u\"],\n",
    "    bins=40,\n",
    "    color=\"C1\",\n",
    "    range=((0.5, 0.9), (-0.5, 0.1)),\n",
    ")\n",
    "corner.corner(\n",
    "    trace,\n",
    "    var_names=[\"Kepler_u\"],\n",
    "    bins=40,\n",
    "    color=\"C0\",\n",
    "    fig=fig,\n",
    "    labels=[\"$u_1$\", \"$u_2$\"],\n",
    "    range=((0.5, 0.9), (-0.5, 0.1)),\n",
    ")\n",
    "fig.axes[0].axvline(-1.0, color=\"C0\", label=\"Kepler\")\n",
    "fig.axes[0].axvline(-1.0, color=\"C1\", label=\"TESS\")\n",
    "_ = fig.axes[0].legend(\n",
    "    fontsize=12, loc=\"center left\", bbox_to_anchor=(1.1, 0.5)\n",
    ")"
   ]
  },
  {
   "cell_type": "markdown",
   "id": "c34de6a5",
   "metadata": {},
   "source": [
    "## Citations\n",
    "\n",
    "As described in the [citation tutorial](https://docs.exoplanet.codes/en/stable/tutorials/citation/), we can use [citations.get_citations_for_model](https://docs.exoplanet.codes/en/stable/user/api/#exoplanet.citations.get_citations_for_model) to construct an acknowledgement and BibTeX listing that includes the relevant citations for this model."
   ]
  },
  {
   "cell_type": "code",
   "execution_count": 9,
   "id": "1a6bc209",
   "metadata": {
    "execution": {
     "iopub.execute_input": "2022-06-06T01:33:00.225589Z",
     "iopub.status.busy": "2022-06-06T01:33:00.225252Z",
     "iopub.status.idle": "2022-06-06T01:33:00.232948Z",
     "shell.execute_reply": "2022-06-06T01:33:00.231809Z"
    }
   },
   "outputs": [
    {
     "name": "stdout",
     "output_type": "stream",
     "text": [
      "This research made use of \\textsf{exoplanet} \\citep{exoplanet:joss,\n",
      "exoplanet:zenodo} and its dependencies \\citep{celerite2:foremanmackey17,\n",
      "celerite2:foremanmackey18, exoplanet:arviz, exoplanet:astropy13,\n",
      "exoplanet:astropy18, exoplanet:pymc3, exoplanet:theano}.\n"
     ]
    }
   ],
   "source": [
    "with model:\n",
    "    txt, bib = xo.citations.get_citations_for_model()\n",
    "print(txt)"
   ]
  },
  {
   "cell_type": "code",
   "execution_count": 10,
   "id": "f1018631",
   "metadata": {
    "execution": {
     "iopub.execute_input": "2022-06-06T01:33:00.236593Z",
     "iopub.status.busy": "2022-06-06T01:33:00.236315Z",
     "iopub.status.idle": "2022-06-06T01:33:00.241065Z",
     "shell.execute_reply": "2022-06-06T01:33:00.240233Z"
    }
   },
   "outputs": [
    {
     "name": "stdout",
     "output_type": "stream",
     "text": [
      "\n",
      "@article{exoplanet:joss,\n",
      "       author = {{Foreman-Mackey}, Daniel and {Luger}, Rodrigo and {Agol}, Eric\n",
      "                and {Barclay}, Thomas and {Bouma}, Luke G. and {Brandt},\n",
      "                Timothy D. and {Czekala}, Ian and {David}, Trevor J. and\n",
      "                {Dong}, Jiayin and {Gilbert}, Emily A. and {Gordon}, Tyler A.\n",
      "                and {Hedges}, Christina and {Hey}, Daniel R. and {Morris},\n",
      "                Brett M. and {Price-Whelan}, Adrian M. and {Savel}, Arjun B.},\n",
      "        title = \"{exoplanet: Gradient-based probabilistic inference for\n",
      "                  exoplanet data \\& other astronomical time series}\",\n",
      "      journal = {arXiv e-prints},\n",
      "         year = 2021,\n",
      "        month = may,\n",
      "          eid = {arXiv:2105.01994},\n",
      "        pages = {arXiv:2105.01994},\n",
      "archivePrefix = {arXiv},\n",
      "       eprint = {2105.01994},\n",
      " primaryClass = {astro-ph.IM},\n",
      "       adsurl = {https://ui.adsabs.harvard.edu/abs/2021arXiv210501994F},\n",
      "      adsnote = {Provided by the SAO/NASA Astrophysics Data System}\n",
      "}\n",
      "\n",
      "...\n"
     ]
    }
   ],
   "source": [
    "print(bib.split(\"\\n\\n\")[0] + \"\\n\\n...\")"
   ]
  },
  {
   "cell_type": "code",
   "execution_count": null,
   "id": "a567800c-90b7-4a31-b98c-e253a2873d7f",
   "metadata": {},
   "outputs": [],
   "source": []
  }
 ],
 "metadata": {
  "kernelspec": {
   "display_name": "Python 3",
   "language": "python",
   "name": "python3"
  },
  "language_info": {
   "codemirror_mode": {
    "name": "ipython",
    "version": 3
   },
   "file_extension": ".py",
   "mimetype": "text/x-python",
   "name": "python",
   "nbconvert_exporter": "python",
   "pygments_lexer": "ipython3",
   "version": "3.9.13"
  }
 },
 "nbformat": 4,
 "nbformat_minor": 5
}
